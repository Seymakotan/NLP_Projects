{
 "cells": [
  {
   "cell_type": "code",
   "execution_count": 6,
   "metadata": {},
   "outputs": [
    {
     "name": "stdout",
     "output_type": "stream",
     "text": [
      "\n",
      "Punkt knows that the periods in Mr. Smith and Johann S. Bach\n",
      "do not mark sentence boundaries.\n",
      "And sometimes sentences\n",
      "can start with non-capitalized words.\n",
      "i is a good variable\n",
      "name.\n"
     ]
    }
   ],
   "source": [
    "#cümle tokenize etme\n",
    "import nltk\n",
    "from nltk import sent_tokenize\n",
    "text='''\n",
    "Punkt knows that the periods in Mr. Smith and Johann S. Bach\n",
    "do not mark sentence boundaries.  And sometimes sentences\n",
    "can start with non-capitalized words. i is a good variable\n",
    "name.\n",
    "'''\n",
    "sentences= sent_tokenize(text)\n",
    "for sentence in sentences:\n",
    "    print(sentence)"
   ]
  },
  {
   "cell_type": "code",
   "execution_count": 4,
   "metadata": {},
   "outputs": [
    {
     "name": "stdout",
     "output_type": "stream",
     "text": [
      "Punkt knows that the periods in Mr. Smith and Johann S. Bach\n",
      "do not mark sentence boundaries.\n",
      "-----\n",
      "And sometimes sentences\n",
      "can start with non-capitalized words.\n",
      "-----\n",
      "i is a good variable\n",
      "... name.\n"
     ]
    }
   ],
   "source": [
    "import nltk.data\n",
    "text = '''\n",
    "Punkt knows that the periods in Mr. Smith and Johann S. Bach\n",
    "do not mark sentence boundaries.  And sometimes sentences\n",
    "can start with non-capitalized words. i is a good variable\n",
    "... name.\n",
    " '''\n",
    "sent_detector = nltk.data.load('tokenizers/punkt/english.pickle')\n",
    "print('\\n-----\\n'.join(sent_detector.tokenize(text.strip())))"
   ]
  },
  {
   "cell_type": "code",
   "execution_count": 11,
   "metadata": {},
   "outputs": [
    {
     "name": "stdout",
     "output_type": "stream",
     "text": [
      "['Bu', 'hafta', 'stajımın', '2.', 'haftası', '.']\n",
      "['Seyma', 'kotan', 'eem', 've', 'blm', 'öğrencisi']\n",
      "['bulutlu', ',', 'güneşli', ',', 'yağmurlu', 'hava', '.']\n"
     ]
    }
   ],
   "source": [
    "# kelime tokenize etme işlemi\n",
    "import nltk\n",
    "from nltk import word_tokenize\n",
    "\n",
    "sentences = [\n",
    "        \"Bu hafta stajımın 2. haftası.\",\n",
    "        \"Seyma kotan eem ve blm öğrencisi\",\n",
    "        \"bulutlu, güneşli, yağmurlu hava.\"\n",
    "]\n",
    "\n",
    "for sentence in sentences:\n",
    "    #print(sentence.split())\n",
    "    print(word_tokenize(sentence))"
   ]
  },
  {
   "cell_type": "code",
   "execution_count": null,
   "metadata": {},
   "outputs": [],
   "source": []
  }
 ],
 "metadata": {
  "kernelspec": {
   "display_name": "Python 3",
   "language": "python",
   "name": "python3"
  },
  "language_info": {
   "codemirror_mode": {
    "name": "ipython",
    "version": 3
   },
   "file_extension": ".py",
   "mimetype": "text/x-python",
   "name": "python",
   "nbconvert_exporter": "python",
   "pygments_lexer": "ipython3",
   "version": "3.8.3"
  }
 },
 "nbformat": 4,
 "nbformat_minor": 4
}
